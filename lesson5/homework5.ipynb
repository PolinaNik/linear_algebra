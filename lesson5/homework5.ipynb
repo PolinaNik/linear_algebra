{
 "cells": [
  {
   "cell_type": "markdown",
   "id": "090492b5",
   "metadata": {},
   "source": [
    "## Домашняя работа по теме №5 \"Сингулярное разложение матриц\""
   ]
  },
  {
   "cell_type": "markdown",
   "id": "feba076b",
   "metadata": {},
   "source": [
    "1. Найдите посредством NumPy SVD для матрицы:\n",
    "\n",
    "$$\\begin{pmatrix}\n",
    "1 & 2 & 0\\\\ \n",
    "0 & 0 & 5\\\\ \n",
    "3 & -4 & 2\\\\ \n",
    "1 & 6 & 5\\\\ \n",
    "0 & 1 & 0\n",
    "\\end{pmatrix}.$$"
   ]
  },
  {
   "cell_type": "code",
   "execution_count": 1,
   "id": "9cb5b44a",
   "metadata": {},
   "outputs": [],
   "source": [
    "import numpy as np"
   ]
  },
  {
   "cell_type": "code",
   "execution_count": 2,
   "id": "082c0500",
   "metadata": {},
   "outputs": [
    {
     "name": "stdout",
     "output_type": "stream",
     "text": [
      "Матрица A:\n",
      "[[ 1  2  0]\n",
      " [ 0  0  5]\n",
      " [ 3 -4  2]\n",
      " [ 1  6  5]\n",
      " [ 0  1  0]]\n"
     ]
    }
   ],
   "source": [
    "A = np.array([[1, 2, 0],\n",
    "              [0, 0, 5],\n",
    "              [3, -4, 2],\n",
    "              [1, 6, 5],\n",
    "              [0, 1, 0]])\n",
    "print(f'Матрица A:\\n{A}')"
   ]
  },
  {
   "cell_type": "code",
   "execution_count": 3,
   "id": "dd6d9c1e",
   "metadata": {},
   "outputs": [],
   "source": [
    "U, s, W = np.linalg.svd(A)\n",
    "\n",
    "# Транспонируем матрицу W\n",
    "V = W.T\n",
    "\n",
    "# s - список диагональных элементов, его нужно привести к виду диагональной матрицы для наглядности\n",
    "D = np.zeros_like(A, dtype=float)\n",
    "D[np.diag_indices(min(A.shape))] = s"
   ]
  },
  {
   "cell_type": "code",
   "execution_count": 4,
   "id": "ef88a40a",
   "metadata": {},
   "outputs": [
    {
     "name": "stdout",
     "output_type": "stream",
     "text": [
      "Матрица D:\n",
      "[[8.82486885 0.         0.        ]\n",
      " [0.         6.14060608 0.        ]\n",
      " [0.         0.         2.53271528]\n",
      " [0.         0.         0.        ]\n",
      " [0.         0.         0.        ]]\n"
     ]
    }
   ],
   "source": [
    "print(f'Матрица D:\\n{D}')"
   ]
  },
  {
   "cell_type": "code",
   "execution_count": 5,
   "id": "33a60d37",
   "metadata": {},
   "outputs": [
    {
     "name": "stdout",
     "output_type": "stream",
     "text": [
      "Матрица U:\n",
      "[[ 0.17056501  0.15680918 -0.53077508 -0.79905375 -0.16158397]\n",
      " [ 0.39287016 -0.52933945  0.6134793  -0.43375771  0.03082495]\n",
      " [-0.14366152 -0.82449256 -0.52379105  0.14049848  0.07400343]\n",
      " [ 0.88843702  0.06074346 -0.24655277  0.37755832 -0.06042632]\n",
      " [ 0.08125046  0.10831843 -0.08231425 -0.10524851  0.98173958]]\n"
     ]
    }
   ],
   "source": [
    "print(f'Матрица U:\\n{U}')"
   ]
  },
  {
   "cell_type": "code",
   "execution_count": 6,
   "id": "7e263416",
   "metadata": {},
   "outputs": [
    {
     "name": "stdout",
     "output_type": "stream",
     "text": [
      "Матрица V:\n",
      "[[ 0.07116451 -0.36737824 -0.92734505]\n",
      " [ 0.71702467  0.66514082 -0.20847855]\n",
      " [ 0.69340553 -0.65009301  0.31075368]]\n"
     ]
    }
   ],
   "source": [
    "print(f'Матрица V:\\n{V}')"
   ]
  },
  {
   "cell_type": "code",
   "execution_count": 7,
   "id": "fb46d13a",
   "metadata": {},
   "outputs": [
    {
     "name": "stdout",
     "output_type": "stream",
     "text": [
      "[[ 1.  2.  0.]\n",
      " [ 0. -0.  5.]\n",
      " [ 3. -4.  2.]\n",
      " [ 1.  6.  5.]\n",
      " [-0.  1.  0.]]\n"
     ]
    }
   ],
   "source": [
    "# Проведем проверку\n",
    "print(np.rint(np.dot(np.dot(U, D), V.T)))"
   ]
  },
  {
   "cell_type": "markdown",
   "id": "d7d5ff28",
   "metadata": {},
   "source": [
    "2. Для матрицы из предыдущего задания найдите:\n",
    "\n",
    "    а) евклидову норму;\n",
    "    \n",
    "    б) норму Фробениуса."
   ]
  },
  {
   "cell_type": "markdown",
   "id": "11f3659f",
   "metadata": {},
   "source": [
    "Евклидова норма матрицы равна евклидовой норме диагональной матрицы из её сингулярных чисел  𝐷 . Максимальное значение полученного отношения будет равно максимальному сингулярному числу  𝜇𝑚𝑎𝑥 , и, принимая во внимание факт сортировки по убыванию сингулярных чисел, получим:\n",
    "\n",
    "$$\\left \\| A \\right \\|_{E}=\\mu_{1}.$$"
   ]
  },
  {
   "cell_type": "code",
   "execution_count": 8,
   "id": "01e062db",
   "metadata": {},
   "outputs": [
    {
     "name": "stdout",
     "output_type": "stream",
     "text": [
      "Евклидова норма: 8.824868854820442\n"
     ]
    }
   ],
   "source": [
    "evk_norma = max(s)\n",
    "print(f'Евклидова норма: {evk_norma}')"
   ]
  },
  {
   "cell_type": "markdown",
   "id": "31278a17",
   "metadata": {},
   "source": [
    "Есть также _норма Фробениуса_, определяемая как:\n",
    "\n",
    "$$\\left \\| A \\right \\|_{F}=\\sqrt{\\sum_{i=1}^{m}\\sum_{j=1}^{n}a_{ij}^{2}}.$$\n",
    "\n",
    "Когда известно сингулярное разложение матрицы, её норма Фробениуса вычисляется как:\n",
    "\n",
    "$$\\left \\| A \\right \\|_{F}=\\sqrt{\\sum_{k=1}^{r}\\mu_{k}^{2}}.$$"
   ]
  },
  {
   "cell_type": "code",
   "execution_count": 9,
   "id": "309396d3",
   "metadata": {},
   "outputs": [
    {
     "name": "stdout",
     "output_type": "stream",
     "text": [
      "Норма Фробениуса: 11.045361017187261\n"
     ]
    }
   ],
   "source": [
    "frob_norm = np.sqrt(np.sum(np.power(s, 2)))\n",
    "print(f'Норма Фробениуса: {frob_norm}')"
   ]
  }
 ],
 "metadata": {
  "kernelspec": {
   "display_name": "Python 3",
   "language": "python",
   "name": "python3"
  },
  "language_info": {
   "codemirror_mode": {
    "name": "ipython",
    "version": 3
   },
   "file_extension": ".py",
   "mimetype": "text/x-python",
   "name": "python",
   "nbconvert_exporter": "python",
   "pygments_lexer": "ipython3",
   "version": "3.8.8"
  }
 },
 "nbformat": 4,
 "nbformat_minor": 5
}
