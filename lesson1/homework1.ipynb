{
 "cells": [
  {
   "cell_type": "markdown",
   "id": "1d5573bf",
   "metadata": {},
   "source": [
    "## Домашняя работа по теме 1: \"Линейное пространство\"\n",
    "### Часть 1"
   ]
  },
  {
   "cell_type": "markdown",
   "id": "2555635a",
   "metadata": {},
   "source": [
    "__1.__ Исследуйте на линейную зависимость:\n",
    "\n",
    "$$f_{1}(x)=e^{x}, f_{2}(x)=1, f_{3}(x)=x+1, f_{4}(x)=x-e^{x}.$$\n"
   ]
  },
  {
   "cell_type": "markdown",
   "id": "c64c8176",
   "metadata": {},
   "source": [
    "__Решение:__"
   ]
  },
  {
   "cell_type": "markdown",
   "id": "0716928a",
   "metadata": {},
   "source": [
    "$$f_{4}(x)=f_{3}(x)-f_{2}(x)-f_{1}(x)=x+1-1-e^{x}=x-e^{x}$$"
   ]
  },
  {
   "cell_type": "markdown",
   "id": "7273cc77",
   "metadata": {},
   "source": [
    "Так как $f_{4}(x)$ можно выразить через $f_{1}(x)$, $f_{2}(x)$, $f_{3}(x)$, то есть линейная зависимость"
   ]
  },
  {
   "cell_type": "markdown",
   "id": "b55639bf",
   "metadata": {},
   "source": [
    "__2.__ Исследуйте на линейную зависимость:\n",
    "$$f_{1}(x)=2, f_{2}(x)=x, f_{3}(x)=x^{2}, f_{4}(x)=(x+1)^{2}$$"
   ]
  },
  {
   "cell_type": "markdown",
   "id": "a8ebb609",
   "metadata": {},
   "source": [
    "__Решение:__"
   ]
  },
  {
   "cell_type": "markdown",
   "id": "cf2163d5",
   "metadata": {},
   "source": [
    "$$f_{4}(x)=(x+1)^{2} = x^{2}+2x+1$$"
   ]
  },
  {
   "cell_type": "markdown",
   "id": "14c2d35d",
   "metadata": {},
   "source": [
    "$$f_{4}(x) = f_{3}(x)+2f_{2}(x)+0.5f_{1}(x) = x^{2}+2\\cdot x+0.5 \\cdot 2 = x^{2}+2x+1 $$"
   ]
  },
  {
   "cell_type": "markdown",
   "id": "ee250d4d",
   "metadata": {},
   "source": [
    "Так как $f_{4}(x)$ можно выразить через $f_{1}(x)$, $f_{2}(x)$, $f_{3}(x)$, то есть линейная зависимость"
   ]
  },
  {
   "cell_type": "markdown",
   "id": "817b6538",
   "metadata": {},
   "source": [
    "__3.__ Найдите координаты вектора $x = (2, 3, 5)\\in \\mathbb{R}^{3}$ в базисе $b_{1}=(0, 0, 10)$, $b_{2}=(2, 0, 0)$, $b_{3}=(0, 1, 0)$."
   ]
  },
  {
   "cell_type": "markdown",
   "id": "a604f873",
   "metadata": {},
   "source": [
    "__Решение:__"
   ]
  },
  {
   "cell_type": "markdown",
   "id": "303f8523",
   "metadata": {},
   "source": [
    "$$0.5 \\cdot b_1 + b_2 + 3 \\cdot b_3 \\Rightarrow (0.5, 1, 3)$$"
   ]
  },
  {
   "cell_type": "markdown",
   "id": "00d7f89f",
   "metadata": {},
   "source": [
    "__4.__ Найдите координаты вектора $3x^{2}-2x+2\\in\\mathbb{R}^{3}[x]$:\n",
    "\n",
    "а) в базисе $1$, $x$, $x^{2}$;\n",
    "\n",
    "б) в базисе $x^{2}$, $x-1$, $1$."
   ]
  },
  {
   "cell_type": "markdown",
   "id": "46a382db",
   "metadata": {},
   "source": [
    "__Решение:__\n",
    "\n",
    "а) $1 \\cdot 2 + x \\cdot (-2) + x^2 \\cdot 3 = 3x^{2}-2x+2 \\Rightarrow (2, -2, 3)$\n",
    "\n",
    "б) $x^2 \\cdot 3 + (x-1) \\cdot (-2) + 1 \\cdot 0 = 3x^{2}-2x+2 \\Rightarrow (3, -2, 0)$"
   ]
  },
  {
   "cell_type": "markdown",
   "id": "e3629c4a",
   "metadata": {},
   "source": [
    "__5.__ Установите, считается ли линейным подпространством:\n",
    "\n",
    "а) совокупность всех векторов трёхмерного пространства, у которых по крайней мере одна из первых двух координат равна нулю;\n",
    "    \n",
    "б) все векторы, считающиеся линейными комбинациями данных векторов $\\{u_{1}, u_{2} \\ldots, u_{n}\\}$."
   ]
  },
  {
   "cell_type": "markdown",
   "id": "c75196da",
   "metadata": {},
   "source": [
    "__Решение:__\n",
    "\n",
    "а) Определим, будут ли подпространствами линейного пространства $\\mathbb{R}^{3}$ следующие множества:\n",
    "множество всех векторов вида $(0, a, b)$, множество всех векторов вида $(a, 0, b)$"
   ]
  },
  {
   "cell_type": "markdown",
   "id": "ebbc821b",
   "metadata": {},
   "source": [
    "Проведя проверку по приведённому утверждению, мы увидим: \n",
    " \n",
    "$$(0, a, b)+(0, c, d) = (0, a+c, b+d),$$ $$\\alpha\\cdot (0, a, b) = (0, \\alpha a, \\alpha b).$$\n",
    " \n",
    " \n",
    "Полученные векторы также принадлежат указанному в задании множеству всех векторов вида $(0, a, b)$, то есть это множество считается подпространством линейного пространства $\\mathbb{R}^{3}$."
   ]
  },
  {
   "cell_type": "markdown",
   "id": "d615921a",
   "metadata": {},
   "source": [
    "Теперь исследуем для $(𝑎,0,𝑏)$:"
   ]
  },
  {
   "cell_type": "markdown",
   "id": "58fc1d6c",
   "metadata": {},
   "source": [
    "$$(a, 0, b)+(c, 0, d) = (a+c, 0, b+d),$$ $$\\alpha\\cdot (a, 0, b) = (\\alpha a, 0, \\alpha b).$$"
   ]
  },
  {
   "cell_type": "markdown",
   "id": "16c5e149",
   "metadata": {},
   "source": [
    "Полученные векторы также принадлежат указанному в задании множеству всех векторов вида $(a, 0, b)$, то есть это множество считается подпространством линейного пространства $\\mathbb{R}^{3}$."
   ]
  },
  {
   "cell_type": "markdown",
   "id": "a491fbd7",
   "metadata": {},
   "source": [
    "б) Не знаю как доказать"
   ]
  },
  {
   "cell_type": "markdown",
   "id": "766c095e",
   "metadata": {},
   "source": [
    "### Часть 2"
   ]
  },
  {
   "cell_type": "code",
   "execution_count": 1,
   "id": "bc5af86b",
   "metadata": {},
   "outputs": [],
   "source": [
    "import numpy as np"
   ]
  },
  {
   "cell_type": "markdown",
   "id": "fda93376",
   "metadata": {},
   "source": [
    "__1.__ Найдите скалярное произведение векторов $x, y \\in \\mathbb{R}$:<br>\n",
    "а) $x=(0,-3, 6),~y=(-4, 7, 9);$<br>\n",
    "б) $x=(7, -4, 0, 1),~y=(-3, 1, 11, 2).$"
   ]
  },
  {
   "cell_type": "markdown",
   "id": "427f6c8e",
   "metadata": {},
   "source": [
    "__Решение:__"
   ]
  },
  {
   "cell_type": "code",
   "execution_count": 2,
   "id": "3f980970",
   "metadata": {},
   "outputs": [
    {
     "data": {
      "text/plain": [
       "33"
      ]
     },
     "execution_count": 2,
     "metadata": {},
     "output_type": "execute_result"
    }
   ],
   "source": [
    "# 𝑥=(0,−3,6), 𝑦=(−4,7,9); \n",
    "x = np.array([0, -3, 6])\n",
    "y = np.array([-4, 7, 9])\n",
    "res = np.dot(x, y)\n",
    "res"
   ]
  },
  {
   "cell_type": "code",
   "execution_count": 3,
   "id": "6bac9718",
   "metadata": {},
   "outputs": [
    {
     "data": {
      "text/plain": [
       "-23"
      ]
     },
     "execution_count": 3,
     "metadata": {},
     "output_type": "execute_result"
    }
   ],
   "source": [
    "# 𝑥=(7,−4,0,1), 𝑦=(−3,1,11,2)\n",
    "x = np.array([7, -4, 0, 1])\n",
    "y = np.array([-3, 1, 11, 2])\n",
    "res = np.dot(x, y)\n",
    "res"
   ]
  },
  {
   "cell_type": "markdown",
   "id": "fdeb94b0",
   "metadata": {},
   "source": [
    "__2.__ Найдите нормы векторов $(4, 2, 4)$ и $(12, 3, 4)$ и угол между ними."
   ]
  },
  {
   "cell_type": "markdown",
   "id": "94d6c00a",
   "metadata": {},
   "source": [
    "__Решение:__"
   ]
  },
  {
   "cell_type": "code",
   "execution_count": 4,
   "id": "1e201df3",
   "metadata": {},
   "outputs": [
    {
     "name": "stdout",
     "output_type": "stream",
     "text": [
      "Норма первого вектора: 6.0\n",
      "Норма второго вектора: 13.0\n",
      "Угол между векторами в градусах: 51.41928930661234 и в радианах 0.8974358974358975\n"
     ]
    }
   ],
   "source": [
    "from numpy.linalg import norm\n",
    "from math import degrees\n",
    "a = np.array([4,2,4])\n",
    "b = np.array([12,3,4])\n",
    "norm_a = norm(a)\n",
    "norm_b = norm(b)\n",
    "cos_phi = np.dot(a, b) / (norm_a * norm_b)\n",
    "print(f'Норма первого вектора: {norm_a}')\n",
    "print(f'Норма второго вектора: {norm_b}')\n",
    "print(f'Угол между векторами в градусах: {degrees(cos_phi)} и в радианах {cos_phi}')"
   ]
  },
  {
   "cell_type": "markdown",
   "id": "7c7c4825",
   "metadata": {},
   "source": [
    "__3.__ Определите, будет ли линейное пространство евклидовым, если за скалярное произведение принять:<br>\n",
    "а) произведение длин векторов;<br>\n",
    "б) утроенное обычное скалярное произведение векторов?<br>"
   ]
  },
  {
   "cell_type": "markdown",
   "id": "00313d66",
   "metadata": {},
   "source": [
    "__Решение:__"
   ]
  },
  {
   "cell_type": "markdown",
   "id": "aab74e79",
   "metadata": {},
   "source": [
    "Линейное пространство над полем вещественных чисел называется евклидовым пространством, если на нём введено правило, согласно которому каждой упорядоченной паре векторов  𝑥  и  𝑦  поставлено в соответствие вещественное число, называемое скалярным произведением и обозначаемое символом  (𝑥,𝑦) .\n",
    "\n",
    "Указанное правило должно подчиняться четырём аксиомам:\n",
    "\n",
    "1)  (𝑥,𝑦)=(𝑦,𝑥).\n",
    "\n",
    "2)  (𝜆𝑥,𝑦)=𝜆(𝑥,𝑦). \n",
    "\n",
    "3)  (𝑥1+𝑥2,𝑦)=(𝑥1,𝑦)+(𝑥2,𝑦). \n",
    "\n",
    "4)  (𝑥,𝑥)≥0 , причём  (𝑥,𝑥)=0⇔𝑥=0."
   ]
  },
  {
   "cell_type": "markdown",
   "id": "28009728",
   "metadata": {},
   "source": [
    "Для любых  𝑥,𝑦 , принадлежащих евклидову пространству  𝐸  с так определённой нормой, имеет место неравенство:\n",
    "\n",
    "|(𝑥,𝑦)|≤‖𝑥‖‖𝑦‖.\n",
    "\n",
    "В этом можно убедиться на примере частного случая двух векторов: $x = (1, 2, 3), y = (10, 20, 30)$"
   ]
  },
  {
   "cell_type": "code",
   "execution_count": 5,
   "id": "57b9972b",
   "metadata": {},
   "outputs": [
    {
     "name": "stdout",
     "output_type": "stream",
     "text": [
      "Скалярное произведение векторов: 140\n",
      "Произведение длин векторов 140.0\n"
     ]
    }
   ],
   "source": [
    "x = np.array([1, 2, 3])\n",
    "y = np.array([10, 20, 30])\n",
    "print(f'Скалярное произведение векторов: {np.dot(x,y)}')\n",
    "print(f'Произведение длин векторов {norm(x)*norm(y)}')"
   ]
  },
  {
   "cell_type": "markdown",
   "id": "e85b0c01",
   "metadata": {},
   "source": [
    "Следовательно, в первом случае пространство будет считаться евклидовым."
   ]
  },
  {
   "cell_type": "markdown",
   "id": "cb067e7e",
   "metadata": {},
   "source": [
    "Во втором случае при утроенном обычном скалярном произведении векторов пространство также будет считаться евклидовым, так как это не противоречит второму правилу: \n",
    "\n",
    "2)  (𝜆𝑥,𝑦)=𝜆(𝑥,𝑦)\n",
    "\n",
    "В нашем случае $3(x, y) = (3x, y)$"
   ]
  },
  {
   "cell_type": "markdown",
   "id": "e4fef675",
   "metadata": {},
   "source": [
    "__4.__ Выясните, какие из нижеперечисленных векторов образуют ортонормированный базис в линейном пространстве $\\mathbb{R}^{3}$:<br>\n",
    "а) $(1,0,0),(0,0,1);$ <br>\n",
    "б) $(1/\\sqrt{2},-1/\\sqrt{2},0),(1/\\sqrt{2},1/\\sqrt{2},0), (0,0,1);$<br>\n",
    "в) $(1/2, -1/2, 0), (0, 1/2, 1/2), (0,0,1);$<br>\n",
    "г) $(1,0,0),(0,1,0),(0,0,1)?$ "
   ]
  },
  {
   "cell_type": "markdown",
   "id": "354da9a3",
   "metadata": {},
   "source": [
    "__Решение:__"
   ]
  },
  {
   "cell_type": "markdown",
   "id": "0079d98c",
   "metadata": {},
   "source": [
    "Так как пространство трехмерное, то для ортонормированного базиса нужно 3 вектора. Поэтому будем работать с пунктами (б), (в), (г)"
   ]
  },
  {
   "cell_type": "markdown",
   "id": "6310bcef",
   "metadata": {},
   "source": [
    "В евклидовом пространстве  𝐸  элементы  𝑥  и  𝑦  называются ортогональными, если\n",
    "\n",
    "(𝑥,𝑦)=0.\n",
    "\n",
    "В конечномерном евклидовом пространстве базис  {𝑒1,𝑒2...,𝑒𝑛}  называется ортонормированным, если:\n",
    "\n",
    "(𝑒𝑖,𝑒𝑗)=0   ∀   𝑖≠𝑗  и  (𝑒𝑖,𝑒𝑖)=1   ∀   𝑖∈[1,𝑛].\n",
    "\n",
    "Проверим каждую пару векторов. Для этого напишем функцию:"
   ]
  },
  {
   "cell_type": "code",
   "execution_count": 6,
   "id": "74369f54",
   "metadata": {},
   "outputs": [],
   "source": [
    "def check_basis(a: np.ndarray, b: np.ndarray, c: np.ndarray) -> bool: \n",
    "    if norm(a) == 1 and norm(b) == 1 and norm(c) == 1:\n",
    "        if np.dot(a,b) == 0 and np.dot(b,c) == 0 and np.dot(a,c) == 0:\n",
    "            return True\n",
    "        else:\n",
    "            return False\n",
    "    else:\n",
    "        return False"
   ]
  },
  {
   "cell_type": "markdown",
   "id": "684c374d",
   "metadata": {},
   "source": [
    "б) $(1/\\sqrt{2},-1/\\sqrt{2},0),(1/\\sqrt{2},1/\\sqrt{2},0), (0,0,1);$<br>"
   ]
  },
  {
   "cell_type": "code",
   "execution_count": 7,
   "id": "593b5195",
   "metadata": {},
   "outputs": [
    {
     "data": {
      "text/plain": [
       "False"
      ]
     },
     "execution_count": 7,
     "metadata": {},
     "output_type": "execute_result"
    }
   ],
   "source": [
    "a = np.array([1/np.sqrt(2), -1/np.sqrt(2), 0])\n",
    "b = np.array([1/np.sqrt(2), 1/np.sqrt(2), 0])\n",
    "c = np.array([0, 0, 1])\n",
    "\n",
    "check_basis(a,b,c)"
   ]
  },
  {
   "cell_type": "markdown",
   "id": "7c0bc870",
   "metadata": {},
   "source": [
    "Векторы в пункте (б) НЕ являются ортонормированным базисом"
   ]
  },
  {
   "cell_type": "markdown",
   "id": "eb924f02",
   "metadata": {},
   "source": [
    "в) $(1/2, -1/2, 0), (0, 1/2, 1/2), (0,0,1);$<br>"
   ]
  },
  {
   "cell_type": "code",
   "execution_count": 8,
   "id": "cf093cf5",
   "metadata": {},
   "outputs": [
    {
     "data": {
      "text/plain": [
       "False"
      ]
     },
     "execution_count": 8,
     "metadata": {},
     "output_type": "execute_result"
    }
   ],
   "source": [
    "a = np.array([1/2, -1/2, 0])\n",
    "b = np.array([0, 1/2, 1/2])\n",
    "c = np.array([0, 0, 1])\n",
    "check_basis(a, b, c)"
   ]
  },
  {
   "cell_type": "markdown",
   "id": "984481aa",
   "metadata": {},
   "source": [
    "Векторы в пункте (в) НЕ являются ортонормированным базисом"
   ]
  },
  {
   "cell_type": "code",
   "execution_count": 9,
   "id": "c726de44",
   "metadata": {},
   "outputs": [
    {
     "data": {
      "text/plain": [
       "-0.25"
      ]
     },
     "execution_count": 9,
     "metadata": {},
     "output_type": "execute_result"
    }
   ],
   "source": [
    "np.dot(a,b)"
   ]
  },
  {
   "cell_type": "markdown",
   "id": "3ef69fe5",
   "metadata": {},
   "source": [
    "г) $(1,0,0),(0,1,0),(0,0,1)?$ "
   ]
  },
  {
   "cell_type": "code",
   "execution_count": 10,
   "id": "5f6aff92",
   "metadata": {},
   "outputs": [
    {
     "data": {
      "text/plain": [
       "True"
      ]
     },
     "execution_count": 10,
     "metadata": {},
     "output_type": "execute_result"
    }
   ],
   "source": [
    "a = np.array([1, 0, 0])\n",
    "b = np.array([0, 1, 0])\n",
    "c = np.array([0, 0, 1])\n",
    "check_basis(a, b, c)"
   ]
  },
  {
   "cell_type": "markdown",
   "id": "3b70879d",
   "metadata": {},
   "source": [
    "Векторы в пункте (г) являются ортонормированным базисом"
   ]
  }
 ],
 "metadata": {
  "kernelspec": {
   "display_name": "Python 3",
   "language": "python",
   "name": "python3"
  },
  "language_info": {
   "codemirror_mode": {
    "name": "ipython",
    "version": 3
   },
   "file_extension": ".py",
   "mimetype": "text/x-python",
   "name": "python",
   "nbconvert_exporter": "python",
   "pygments_lexer": "ipython3",
   "version": "3.8.8"
  }
 },
 "nbformat": 4,
 "nbformat_minor": 5
}
