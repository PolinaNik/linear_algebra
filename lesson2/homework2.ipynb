{
 "cells": [
  {
   "cell_type": "markdown",
   "id": "41956eb8",
   "metadata": {},
   "source": [
    "## Домашняя работа по теме №2: \"Матрицы и матричные операции\""
   ]
  },
  {
   "cell_type": "markdown",
   "id": "c51cccb3",
   "metadata": {},
   "source": [
    "### Часть 1"
   ]
  },
  {
   "cell_type": "markdown",
   "id": "2be2b3bb",
   "metadata": {},
   "source": [
    "__1.__ Установите, какие произведения матриц $AB$ и $BA$ определены, и найдите размерности полученных матриц:\n",
    "\n",
    "   а) $A$ — матрица $4\\times 2$, $B$ — матрица $4\\times 2$;\n",
    "    \n",
    "   б) $A$ — матрица $2\\times 5$, $B$ — матрица $5\\times 3$;\n",
    "    \n",
    "   в) $A$ — матрица $8\\times 3$, $B$ — матрица $3\\times 8$;\n",
    "    \n",
    "   г) $A$ — квадратная матрица $4\\times 4$, $B$ — квадратная матрица $4\\times 4$.\n",
    "    "
   ]
  },
  {
   "cell_type": "markdown",
   "id": "8e28607f",
   "metadata": {},
   "source": [
    "__Решение:__"
   ]
  },
  {
   "cell_type": "markdown",
   "id": "63b40d02",
   "metadata": {},
   "source": [
    "Для того, чтобы выполнялось произведение матриц, необходимо, чтобы число столбцов первой матрицы равнялось числу строк второй. Исходя из этого:\n",
    "\n",
    "а) $A$ — матрица $4\\times 2$, $B$ — матрица $4\\times 2$;\n",
    "\n",
    "матрица $AB$ и $BA$ не определены\n",
    "\n",
    "б) $A$ — матрица $2\\times 5$, $B$ — матрица $5\\times 3$;\n",
    "\n",
    "матрица $AB$ определена, её размерность $2\\times 3$, $BA$ - не определена\n",
    "\n",
    "в) $A$ — матрица $8\\times 3$, $B$ — матрица $3\\times 8$;\n",
    "\n",
    "матрица $AB$ определена, её размерность $8\\times 8$,  $BA$ - также определена, её размерность $3\\times 3$\n",
    "\n",
    "г) $A$ — квадратная матрица $4\\times 4$, $B$ — квадратная матрица $4\\times 4$\n",
    "\n",
    "матрица $AB$ определена, её размерность $4\\times 4$,  $BA$ - также определена, её размерность $4\\times 4$"
   ]
  },
  {
   "cell_type": "markdown",
   "id": "9ceef6a8",
   "metadata": {},
   "source": [
    "__2.__ Найдите сумму и произведение матриц $A=\\begin{pmatrix}\n",
    "1 & -2\\\\ \n",
    "3 & 0\n",
    "\\end{pmatrix}$ и $B=\\begin{pmatrix}\n",
    "4 & -1\\\\ \n",
    "0 & 5\n",
    "\\end{pmatrix}.$"
   ]
  },
  {
   "cell_type": "markdown",
   "id": "f118e552",
   "metadata": {},
   "source": [
    "__Решение:__"
   ]
  },
  {
   "cell_type": "markdown",
   "id": "bfed8f57",
   "metadata": {},
   "source": [
    "$A+B = \\begin{pmatrix} \n",
    " 1+4 & -2+(-1)\\\\ \n",
    " 3+0 & 0+5\n",
    "\\end{pmatrix} = \\begin{pmatrix}\n",
    "5 & -3\\\\ \n",
    "3 & 5\n",
    "\\end{pmatrix}$"
   ]
  },
  {
   "cell_type": "code",
   "execution_count": 1,
   "id": "da96a0c1",
   "metadata": {},
   "outputs": [],
   "source": [
    "import numpy as np"
   ]
  },
  {
   "cell_type": "code",
   "execution_count": 2,
   "id": "544e000a",
   "metadata": {},
   "outputs": [
    {
     "data": {
      "text/plain": [
       "array([[ 5, -3],\n",
       "       [ 3,  5]])"
      ]
     },
     "execution_count": 2,
     "metadata": {},
     "output_type": "execute_result"
    }
   ],
   "source": [
    "A = np.array([[1, -2], [3, 0]])\n",
    "B = np.array([[4, -1], [0, 5]])\n",
    "A+B"
   ]
  },
  {
   "cell_type": "markdown",
   "id": "6c58157e",
   "metadata": {},
   "source": [
    "$A \\cdot B = \\begin{pmatrix} \n",
    " 1 \\cdot 4 + (-2) \\cdot 0 & 1 \\cdot (-1) + (-2) \\cdot 5\\\\ \n",
    " 3 \\cdot 4 + 0 \\cdot 0 & 3 \\cdot (-1) + 0 \\cdot 5\n",
    "\\end{pmatrix} = \\begin{pmatrix}\n",
    "4 & -11\\\\ \n",
    "12 & -3\n",
    "\\end{pmatrix}$"
   ]
  },
  {
   "cell_type": "code",
   "execution_count": 3,
   "id": "1204107f",
   "metadata": {},
   "outputs": [
    {
     "data": {
      "text/plain": [
       "array([[  4, -11],\n",
       "       [ 12,  -3]])"
      ]
     },
     "execution_count": 3,
     "metadata": {},
     "output_type": "execute_result"
    }
   ],
   "source": [
    "np.dot(A, B)"
   ]
  },
  {
   "cell_type": "markdown",
   "id": "2725db70",
   "metadata": {},
   "source": [
    "$B \\cdot A = \\begin{pmatrix} \n",
    " 4 \\cdot 1 + (-1) \\cdot 3 & 4 \\cdot (-2) + (-1) \\cdot 0\\\\ \n",
    " 0 \\cdot 1 + 5 \\cdot 3 & 0 \\cdot (-2) + 5 \\cdot 2\n",
    "\\end{pmatrix} = \\begin{pmatrix}\n",
    "1 & -8\\\\ \n",
    "15 & 10\n",
    "\\end{pmatrix}$"
   ]
  },
  {
   "cell_type": "code",
   "execution_count": 4,
   "id": "c3a76cf7",
   "metadata": {},
   "outputs": [
    {
     "data": {
      "text/plain": [
       "array([[ 1, -8],\n",
       "       [15,  0]])"
      ]
     },
     "execution_count": 4,
     "metadata": {},
     "output_type": "execute_result"
    }
   ],
   "source": [
    "np.dot(B, A)"
   ]
  },
  {
   "cell_type": "markdown",
   "id": "c63dc42a",
   "metadata": {},
   "source": [
    "__3.__ Из закономерностей сложения и умножения матриц на число можно сделать вывод, что матрицы одного размера образуют линейное пространство. Вычислите линейную комбинацию $3A-2B+4C$ для матриц $A=\\begin{pmatrix}\n",
    "1 & 7\\\\ \n",
    "3 & -6\n",
    "\\end{pmatrix}$, $B=\\begin{pmatrix}\n",
    "0 & 5\\\\ \n",
    "2 & -1\n",
    "\\end{pmatrix}$, $C=\\begin{pmatrix}\n",
    "2 & -4\\\\ \n",
    "1 & 1\n",
    "\\end{pmatrix}.$"
   ]
  },
  {
   "cell_type": "markdown",
   "id": "bf8e6ea6",
   "metadata": {},
   "source": [
    "__Решение:__"
   ]
  },
  {
   "cell_type": "markdown",
   "id": "d7191fd7",
   "metadata": {},
   "source": [
    "$3A = \\begin{pmatrix} \n",
    " 3 \\cdot 1 & 3 \\cdot 7 \\\\ \n",
    " 3 \\cdot 3 & 3 \\cdot (-6)\n",
    "\\end{pmatrix} = \\begin{pmatrix}\n",
    "3 & 21\\\\ \n",
    "9 & -18\n",
    "\\end{pmatrix}$"
   ]
  },
  {
   "cell_type": "markdown",
   "id": "07804727",
   "metadata": {},
   "source": [
    "$-2B = \\begin{pmatrix} \n",
    " -2 \\cdot 0 & -2 \\cdot 5 \\\\ \n",
    " -2 \\cdot 2 & -2 \\cdot (-1)\n",
    "\\end{pmatrix} = \\begin{pmatrix}\n",
    "0 & -10 \\\\ \n",
    "-4 & 2\n",
    "\\end{pmatrix}$"
   ]
  },
  {
   "cell_type": "markdown",
   "id": "0b50ba39",
   "metadata": {},
   "source": [
    "$4C = \\begin{pmatrix} \n",
    " 4 \\cdot 2 & 4 \\cdot (-4) \\\\ \n",
    " 4 \\cdot 1 & 4 \\cdot 1\n",
    "\\end{pmatrix} = \\begin{pmatrix}\n",
    "8 & -16 \\\\ \n",
    "4 & 4\n",
    "\\end{pmatrix}$"
   ]
  },
  {
   "cell_type": "markdown",
   "id": "13364020",
   "metadata": {},
   "source": [
    "$3A-2B+4C = \\begin{pmatrix} \n",
    " 3+0+8 & 21-10-16 \\\\ \n",
    " 9-4+4 & -18+2+4\n",
    "\\end{pmatrix} = \\begin{pmatrix}\n",
    "11 & -5 \\\\ \n",
    "9 & -12\n",
    "\\end{pmatrix}$"
   ]
  },
  {
   "cell_type": "code",
   "execution_count": 5,
   "id": "55c11360",
   "metadata": {},
   "outputs": [
    {
     "data": {
      "text/plain": [
       "array([[ 11,  -5],\n",
       "       [  9, -12]])"
      ]
     },
     "execution_count": 5,
     "metadata": {},
     "output_type": "execute_result"
    }
   ],
   "source": [
    "A = np.array([[1, 7], [3, -6]])\n",
    "B = np.array([[0, 5], [2, -1]])\n",
    "C = np.array([[2, -4], [1, 1]])\n",
    "np.dot(3, A) - np.dot(2, B) + np.dot(4, C)"
   ]
  },
  {
   "cell_type": "markdown",
   "id": "07bb7b3d",
   "metadata": {},
   "source": [
    "__4.__ Дана матрица $A=\\begin{pmatrix}\n",
    "4 & 1\\\\ \n",
    "5 & -2\\\\ \n",
    "2 & 3\n",
    "\\end{pmatrix}$.\n",
    "Вычислите $AA^{T}$ и $A^{T}A$."
   ]
  },
  {
   "cell_type": "markdown",
   "id": "c5cf8d36",
   "metadata": {},
   "source": [
    "__Решение:__"
   ]
  },
  {
   "cell_type": "markdown",
   "id": "d0fe7ccc",
   "metadata": {},
   "source": [
    "$A^{T}= \\begin{pmatrix}\n",
    "4 & 5 & 2 \\\\ \n",
    "1 & -2 & 3\n",
    "\\end{pmatrix}$"
   ]
  },
  {
   "cell_type": "markdown",
   "id": "2a2d3f5a",
   "metadata": {},
   "source": [
    "$A \\cdot A^{T} = \\begin{pmatrix}\n",
    "4 \\cdot 4 + 1 \\cdot 1 & 4 \\cdot 5 + 1 \\cdot (-2) & 4 \\cdot 2 + 1 \\cdot 3 \\\\ \n",
    "5 \\cdot 4 + (-2) \\cdot 1 & 5 \\cdot 5 + (-2) \\cdot (-2) & 5 \\cdot 2 + (-2) \\cdot 3 \\\\ \n",
    "2 \\cdot 4 + 3 \\cdot 1 & 2 \\cdot 5 + 3 \\cdot (-2) & 2 \\cdot 2 + 3 \\cdot 3\n",
    "\\end{pmatrix} = \\begin{pmatrix}\n",
    "17 & 18 & 11\\\\ \n",
    "18 & 29 & 4\\\\ \n",
    "11 & 4 & 13\n",
    "\\end{pmatrix}$"
   ]
  },
  {
   "cell_type": "code",
   "execution_count": 6,
   "id": "586a6b9f",
   "metadata": {},
   "outputs": [
    {
     "data": {
      "text/plain": [
       "array([[ 4,  5,  2],\n",
       "       [ 1, -2,  3]])"
      ]
     },
     "execution_count": 6,
     "metadata": {},
     "output_type": "execute_result"
    }
   ],
   "source": [
    "A = np.array([[4, 1], [5, -2], [2, 3]])\n",
    "A_t = np.transpose(A)\n",
    "A_t"
   ]
  },
  {
   "cell_type": "code",
   "execution_count": 7,
   "id": "9a748cd7",
   "metadata": {},
   "outputs": [
    {
     "data": {
      "text/plain": [
       "array([[17, 18, 11],\n",
       "       [18, 29,  4],\n",
       "       [11,  4, 13]])"
      ]
     },
     "execution_count": 7,
     "metadata": {},
     "output_type": "execute_result"
    }
   ],
   "source": [
    "np.dot(A, A_t)"
   ]
  },
  {
   "cell_type": "markdown",
   "id": "aeb827b8",
   "metadata": {},
   "source": [
    "$A^{T} \\cdot A = \\begin{pmatrix}\n",
    "4 \\cdot 4 + 5 \\cdot 5 + 2 \\cdot 2 & 4 \\cdot 1 + 5 \\cdot (-2) + 2 \\cdot 3\\\\ \n",
    "1 \\cdot 4 + (-2) \\cdot 5 + 3 \\cdot 2 & 1 \\cdot 1 + (-2) \\cdot (-2) + 3 \\cdot 3\n",
    "\\end{pmatrix} = \\begin{pmatrix}\n",
    "45 & 0\\\\ \n",
    "0 & 14\n",
    "\\end{pmatrix}$"
   ]
  },
  {
   "cell_type": "code",
   "execution_count": 8,
   "id": "bfd4854f",
   "metadata": {},
   "outputs": [
    {
     "data": {
      "text/plain": [
       "array([[45,  0],\n",
       "       [ 0, 14]])"
      ]
     },
     "execution_count": 8,
     "metadata": {},
     "output_type": "execute_result"
    }
   ],
   "source": [
    "np.dot(A_t, A)"
   ]
  },
  {
   "cell_type": "markdown",
   "id": "654e1cb9",
   "metadata": {},
   "source": [
    "__5*.__ Напишите на Python функцию для перемножения двух произвольных матриц, не используя NumPy."
   ]
  },
  {
   "cell_type": "markdown",
   "id": "3037a4cf",
   "metadata": {},
   "source": [
    "__Решение:__"
   ]
  },
  {
   "cell_type": "code",
   "execution_count": 9,
   "id": "eeefd0c1",
   "metadata": {},
   "outputs": [],
   "source": [
    "def matrix_compication(a, b):\n",
    "    n1 = len(a)\n",
    "    m1 = len(a[0])\n",
    "    n2 = len(b)\n",
    "    m2 = len(b[0])\n",
    "    sum_elem = 0\n",
    "    temporary_matrix = []\n",
    "    final_matrix = []\n",
    "    if m1 == n2:\n",
    "        for k in range(m1):\n",
    "            for j in range(n2):\n",
    "                for i in range(n1):\n",
    "                      sum_elem = sum_elem + a[k][i]*b[i][j]\n",
    "                temporary_matrix.append(sum_elem)\n",
    "                sum_elem = 0\n",
    "            final_matrix.append(temporary_matrix)\n",
    "            temporary_matrix = []\n",
    "        return final_matrix\n",
    "    else:\n",
    "        print('Матрицы не могут быть перемножены, так как число столбцов первой матрицы не соответсвует числу строк второй')"
   ]
  },
  {
   "cell_type": "code",
   "execution_count": 10,
   "id": "7ca56b12",
   "metadata": {},
   "outputs": [
    {
     "data": {
      "text/plain": [
       "[[4, -11], [12, -3]]"
      ]
     },
     "execution_count": 10,
     "metadata": {},
     "output_type": "execute_result"
    }
   ],
   "source": [
    "A = np.array([[1, -2], [3, 0]])\n",
    "B = np.array([[4, -1], [0, 5]])\n",
    "matrix_compication(A, B)"
   ]
  },
  {
   "cell_type": "markdown",
   "id": "6b5bb5da",
   "metadata": {},
   "source": [
    "### Часть 2"
   ]
  },
  {
   "cell_type": "markdown",
   "id": "fcf17e18",
   "metadata": {},
   "source": [
    "__1.__ Вычислите определитель:\n",
    "\n",
    "   a)\n",
    "\n",
    "$$\\begin{vmatrix}\n",
    "sinx & -cosx\\\\ \n",
    "cosx & sinx\n",
    "\\end{vmatrix};$$\n",
    "\n",
    "__Решение:__\n",
    "\n",
    "$\\begin{vmatrix}\n",
    "sinx & -cosx\\\\ \n",
    "cosx & sinx\n",
    "\\end{vmatrix} = sin^{2}x + cos^{2}x = 1$\n",
    "\n",
    "\n",
    "   б)\n",
    "    \n",
    "$$\\begin{vmatrix}\n",
    "4 & 2 & 3\\\\ \n",
    "0 & 5 & 1\\\\ \n",
    "0 & 0 & 9\n",
    "\\end{vmatrix};$$\n",
    "\n",
    "__Решение:__\n",
    "\n",
    "$\\begin{vmatrix}\n",
    "4 & 2 & 3\\\\ \n",
    "0 & 5 & 1\\\\ \n",
    "0 & 0 & 9\n",
    "\\end{vmatrix} = 4 \\cdot 45 - 2 \\cdot 0 + 3 \\cdot 0 = 180$\n",
    "\n",
    "    \n",
    "   в)\n",
    "\n",
    "$$\\begin{vmatrix}\n",
    "1 & 2 & 3\\\\ \n",
    "4 & 5 & 6\\\\ \n",
    "7 & 8 & 9\n",
    "\\end{vmatrix}.$$\n",
    "\n",
    "__Решение:__\n",
    "\n",
    "$\\begin{vmatrix}\n",
    "1 & 2 & 3\\\\ \n",
    "4 & 5 & 6\\\\ \n",
    "7 & 8 & 9\n",
    "\\end{vmatrix} = 1 \\cdot (45-48) - 2 \\cdot (36-42) + 3 \\cdot (32-35) = -3 + 12 - 9 = 0 $\n"
   ]
  },
  {
   "cell_type": "markdown",
   "id": "d66dc9c9",
   "metadata": {},
   "source": [
    "Проверим с помощью NumPy"
   ]
  },
  {
   "cell_type": "code",
   "execution_count": 11,
   "id": "09e2e8ea",
   "metadata": {},
   "outputs": [
    {
     "name": "stdout",
     "output_type": "stream",
     "text": [
      "180.0\n",
      "180.0\n"
     ]
    }
   ],
   "source": [
    "b = np.array([[4, 2, 3], [0, 5, 1], [0, 0, 9]])\n",
    "print(np.linalg.det(b))"
   ]
  },
  {
   "cell_type": "code",
   "execution_count": 12,
   "id": "ae616b3e",
   "metadata": {},
   "outputs": [
    {
     "name": "stdout",
     "output_type": "stream",
     "text": [
      "0\n",
      "0\n"
     ]
    }
   ],
   "source": [
    "c = np.array([[1, 2, 3], [4, 5, 6], [7, 8, 9]])\n",
    "print(round(np.linalg.det(c)))"
   ]
  },
  {
   "cell_type": "markdown",
   "id": "d9eea7e9",
   "metadata": {},
   "source": [
    "__2.__ Определитель матрицы $A$ равен $4$. Найдите:\n",
    "\n",
    "   а) $det(A^{2})$;\n",
    "    \n",
    "   б) $det(A^{T})$;\n",
    "    \n",
    "   в) $det(2A)$."
   ]
  },
  {
   "cell_type": "markdown",
   "id": "796475c1",
   "metadata": {},
   "source": [
    "$\\begin{vmatrix}\n",
    "3 & 2 \\\\ \n",
    "7 & 6 \n",
    "\\end{vmatrix} = 18 - 14 = 4$"
   ]
  },
  {
   "cell_type": "markdown",
   "id": "423a5037",
   "metadata": {},
   "source": [
    "__Решение__:"
   ]
  },
  {
   "cell_type": "markdown",
   "id": "f189bf85",
   "metadata": {},
   "source": [
    "а) $\\begin{vmatrix}\n",
    "3 & 2 \\\\ \n",
    "7 & 6 \n",
    "\\end{vmatrix} \\cdot \\begin{vmatrix}\n",
    "3 & 2 \\\\ \n",
    "7 & 6 \n",
    "\\end{vmatrix} = \\begin{vmatrix}\n",
    "3 \\cdot 3 + 2 \\cdot 7 & 3 \\cdot 2 + 2 \\cdot 6 \\\\ \n",
    "7 \\cdot 3 + 6 \\cdot 7 & 7 \\cdot 2 + 6 \\cdot 6\n",
    "\\end{vmatrix} = \\begin{vmatrix}\n",
    "23 & 18 \\\\ \n",
    "63 & 50  \n",
    "\\end{vmatrix} = 1150 - 1134 = 16 $"
   ]
  },
  {
   "cell_type": "markdown",
   "id": "cc6339ab",
   "metadata": {},
   "source": [
    "б) $\\begin{vmatrix}\n",
    "3 & 7 \\\\ \n",
    "2 & 6 \n",
    "\\end{vmatrix} = 18 - 14 = 4 $"
   ]
  },
  {
   "cell_type": "markdown",
   "id": "0e335e8d",
   "metadata": {},
   "source": [
    "в) $ 2 \\cdot \\begin{vmatrix}\n",
    "3 & 2 \\\\ \n",
    "7 & 6 \n",
    "\\end{vmatrix} = \\begin{vmatrix}\n",
    "6 & 4 \\\\ \n",
    "14 & 12 \n",
    "\\end{vmatrix} = 72-56=16 $"
   ]
  },
  {
   "cell_type": "markdown",
   "id": "8dd47216",
   "metadata": {},
   "source": [
    "Проверим с помощью NumPy"
   ]
  },
  {
   "cell_type": "code",
   "execution_count": 13,
   "id": "30607701",
   "metadata": {},
   "outputs": [
    {
     "name": "stdout",
     "output_type": "stream",
     "text": [
      "det(A^2): 16\n",
      "det(A^T): 4\n",
      "det(2A): 16\n",
      "det(A^2): 16\n",
      "det(A^T): 4\n",
      "det(2A): 16\n"
     ]
    }
   ],
   "source": [
    "a = np.array([[3, 2], [7, 6]])\n",
    "print(f'det(A^2): {np.linalg.det(np.dot(a, a)):.0f}')\n",
    "print(f'det(A^T): {np.linalg.det(np.transpose(a)):.0f}')\n",
    "print(f'det(2A): {np.linalg.det(np.dot(2, a)):.0f}')"
   ]
  },
  {
   "cell_type": "markdown",
   "id": "fba0ff72",
   "metadata": {},
   "source": [
    "__3.__  Докажите, что матрица:\n",
    "\n",
    "$$\\begin{pmatrix}\n",
    "-2 & 7 & -3\\\\ \n",
    "4 & -14 & 6\\\\ \n",
    "-3 & 7 & 13\n",
    "\\end{pmatrix}$$\n",
    "   \n",
    "вырожденная.\n",
    "\n",
    "__Решение:__\n",
    "\n",
    "Матрица называется _сингулярной_ или _вырожденной_, если её определитель равен нулю.\n",
    "\n",
    "$\\begin{pmatrix}\n",
    "-2 & 7 & -3\\\\ \n",
    "4 & -14 & 6\\\\ \n",
    "-3 & 7 & 13\n",
    "\\end{pmatrix} = -2 \\cdot (-14) \\cdot 13 + (-3) \\cdot 4 \\cdot 7 - (-3) \\cdot (-14) \\cdot (3) - 4 \\cdot 7 \\cdot 13 = 364 -126 +126 -364 = 0$"
   ]
  },
  {
   "cell_type": "code",
   "execution_count": 14,
   "id": "d4614f57",
   "metadata": {},
   "outputs": [
    {
     "data": {
      "text/plain": [
       "0"
      ]
     },
     "execution_count": 14,
     "metadata": {},
     "output_type": "execute_result"
    },
    {
     "data": {
      "text/plain": [
       "0"
      ]
     },
     "execution_count": 14,
     "metadata": {},
     "output_type": "execute_result"
    }
   ],
   "source": [
    "a = np.array([[-2, 7, -3], [4, -14, 6], [-3, 7, 13]])\n",
    "round(np.linalg.det(a))"
   ]
  },
  {
   "cell_type": "markdown",
   "id": "3b8c162b",
   "metadata": {},
   "source": [
    "__4.__ Найдите ранг матрицы:\n",
    "\n",
    "   а) $\\begin{pmatrix}\n",
    "1 & 2 & 3\\\\ \n",
    "1 & 1 & 1\\\\ \n",
    "2 & 3 & 4\n",
    "\\end{pmatrix};$\n",
    "\n",
    "__Решение:__\n",
    "\n",
    "\n",
    "а) 3 строка является суммой первой и второй строки, следовательно, ее можно отбросить\n",
    "\n",
    "$\\begin{pmatrix}\n",
    "1 & 2 & 3\\\\ \n",
    "1 & 1 & 1\n",
    "\\end{pmatrix} = $\n",
    "\n",
    "Таким образом, у нас 2 линейно независимые строки и ранг матрицы равен 2"
   ]
  },
  {
   "cell_type": "code",
   "execution_count": 15,
   "id": "c07d708a",
   "metadata": {},
   "outputs": [
    {
     "data": {
      "text/plain": [
       "2"
      ]
     },
     "execution_count": 15,
     "metadata": {},
     "output_type": "execute_result"
    },
    {
     "data": {
      "text/plain": [
       "2"
      ]
     },
     "execution_count": 15,
     "metadata": {},
     "output_type": "execute_result"
    }
   ],
   "source": [
    "a = np.array([[1, 2, 3], [1, 1, 1], [2, 3, 4]])\n",
    "np.linalg.matrix_rank(a)"
   ]
  },
  {
   "cell_type": "markdown",
   "id": "8011ef19",
   "metadata": {},
   "source": [
    "б) \n",
    "\n",
    "$\\begin{pmatrix}\n",
    "0 & 0 & 2 & 1\\\\ \n",
    "0 & 0 & 2 & 2\\\\ \n",
    "0 & 0 & 4 & 3\\\\ \n",
    "2 & 3 & 5 & 6\n",
    "\\end{pmatrix}$\n",
    "\n",
    "3 строка является суммой первой и второй строки, следовательно, ее можно отбросить\n",
    "\n",
    "$\\begin{pmatrix}\n",
    "0 & 0 & 2 & 1\\\\ \n",
    "0 & 0 & 2 & 2\\\\ \n",
    "2 & 3 & 5 & 6\n",
    "\\end{pmatrix}$\n",
    "\n",
    "Таким образом, у нас 3 линейно независимые строки и ранг матрицы равен 3"
   ]
  },
  {
   "cell_type": "code",
   "execution_count": 16,
   "id": "5a18bee8",
   "metadata": {},
   "outputs": [
    {
     "data": {
      "text/plain": [
       "3"
      ]
     },
     "execution_count": 16,
     "metadata": {},
     "output_type": "execute_result"
    },
    {
     "data": {
      "text/plain": [
       "3"
      ]
     },
     "execution_count": 16,
     "metadata": {},
     "output_type": "execute_result"
    }
   ],
   "source": [
    "a = np.array([[0, 0, 2, 1], [0, 0, 2, 2], [0, 0, 4, 3], [2, 3, 5, 6]])\n",
    "np.linalg.matrix_rank(a)"
   ]
  },
  {
   "cell_type": "code",
   "execution_count": null,
   "id": "dd40667d",
   "metadata": {},
   "outputs": [],
   "source": []
  }
 ],
 "metadata": {
  "kernelspec": {
   "display_name": "Python 3",
   "language": "python",
   "name": "python3"
  },
  "language_info": {
   "codemirror_mode": {
    "name": "ipython",
    "version": 3
   },
   "file_extension": ".py",
   "mimetype": "text/x-python",
   "name": "python",
   "nbconvert_exporter": "python",
   "pygments_lexer": "ipython3",
   "version": "3.8.8"
  }
 },
 "nbformat": 4,
 "nbformat_minor": 5
}
