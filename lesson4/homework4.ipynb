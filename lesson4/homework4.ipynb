{
 "cells": [
  {
   "cell_type": "markdown",
   "id": "62dcce22",
   "metadata": {},
   "source": [
    "## Домашняя работа по теме №4 \"Системы линейных уравнений. Часть 1\""
   ]
  },
  {
   "cell_type": "markdown",
   "id": "9869c7b4",
   "metadata": {},
   "source": [
    "__1.__ Решите систему уравнений методом Гаусса:\n",
    "\n",
    "$$\\begin{cases}\n",
    "x_{1}+x_{2}-x_{3}-2x_{4}=0, \\\\\n",
    "2x_{1}+x_{2}-x_{3}+x_{4}=-2, \\\\\n",
    "x_{1}+x_{2}-3x_{3}+x_{4}=4.\n",
    "\\end{cases}$$"
   ]
  },
  {
   "cell_type": "markdown",
   "id": "904b1829",
   "metadata": {},
   "source": [
    "__Решение:__\n",
    "\n",
    "Так как число уравнений меньше числа неизвестных, то такая система считается недопределенной. Векторы коэффициентов линейно независимы, следовательно, такая система несовместна и решений не имеет."
   ]
  },
  {
   "cell_type": "markdown",
   "id": "bc0224b9",
   "metadata": {},
   "source": [
    "__2.__ Проверьте на совместность и выясните, сколько решений будет иметь система линейных уравнений:\n",
    "\n",
    "   а) $\\begin{cases}\n",
    "3x_{1}-x_{2}+x_{3}=4, \\\\\n",
    "2x_{1}-5x_{2}-3x_{3}=-17, \\\\\n",
    "x_{1}+x_{2}-x_{3}=0;\n",
    "\\end{cases}$"
   ]
  },
  {
   "cell_type": "markdown",
   "id": "36460596",
   "metadata": {},
   "source": [
    "__Решение:__\n",
    "\n",
    "Число уравнений равняется числу неизвестных. Такая система совместна, коэффиценты линейно независимы, следовательно, система будет иметь единственное решение. А именно, $x_1 = 1, x_2 = 2, x_3 = 3$"
   ]
  },
  {
   "cell_type": "markdown",
   "id": "f0515fcb",
   "metadata": {},
   "source": [
    "   б) $\\begin{cases}\n",
    "2x_{1}-4x_{2}+6x_{3}=1, \\\\\n",
    "x_{1}-2x_{2}+3x_{3}=-2, \\\\\n",
    "3x_{1}-6x_{2}+9x_{3}=5;\n",
    "\\end{cases}$"
   ]
  },
  {
   "cell_type": "markdown",
   "id": "4fe80535",
   "metadata": {},
   "source": [
    "__Решение:__\n",
    "\n",
    "$$\\begin{pmatrix}\n",
    "2 & -4 & 6 & 1\\\\\n",
    "1 & -2 & 3 & -2\\\\ \n",
    "3 & -6 & 9 & 5\n",
    "\\end{pmatrix} \\rightarrow \\begin{pmatrix}\n",
    "0 & 0 & 0 & 5\\\\\n",
    "1 & -2 & 3 & -2\\\\  \n",
    "3 & -6 & 9 & 5\n",
    "\\end{pmatrix}$$"
   ]
  },
  {
   "cell_type": "markdown",
   "id": "ffbd6323",
   "metadata": {},
   "source": [
    "Такая система не имеет смысла, следовательно, не совместна и решений не имеет"
   ]
  },
  {
   "cell_type": "markdown",
   "id": "8675dd5b",
   "metadata": {},
   "source": [
    "   в) $\\begin{cases}\n",
    "x_{1}+2x_{2}+5x_{3}=4, \\\\\n",
    "3x_{1}+x_{2}-8x_{3}=-2. \n",
    "\\end{cases}$"
   ]
  },
  {
   "cell_type": "markdown",
   "id": "fbce5674",
   "metadata": {},
   "source": [
    "__Решение:__\n",
    "\n",
    "Так как число уравнений меньше числа неизвестных, то такая система считается недопределенной. Векторы коэффициентов линейно независимы, следовательно, такая система несовместна и решений не имеет."
   ]
  },
  {
   "cell_type": "markdown",
   "id": "c328a30b",
   "metadata": {},
   "source": [
    "__3.__ Проверьте на совместность и выясните, сколько решений будет иметь система линейных уравнений, заданная расширенной матрицей:\n",
    "\n",
    "$$\\tilde{A}=\\begin{pmatrix}\n",
    "\\left.\\begin{matrix}\n",
    "1 & 3 & -2 & 4\\\\ \n",
    "0 & 5 & 0 & 1\\\\ \n",
    "0 & 0 & 3 & 0\\\\ \n",
    "0 & 0 & 0 & 2\n",
    "\\end{matrix}\\right|\n",
    "\\begin{matrix}\n",
    "3\\\\ \n",
    "2\\\\\n",
    "4\\\\\n",
    "1\n",
    "\\end{matrix}\n",
    "\\end{pmatrix}.$$"
   ]
  },
  {
   "cell_type": "markdown",
   "id": "eccdd70e",
   "metadata": {},
   "source": [
    "__Решение:__\n",
    "\n",
    "Число уравнений равняется числу неизвестных, векторы коэффициентов линейно независимы, следовательно, система будет иметь единственное решение.\n",
    "\n",
    "$$\\left\\{\\begin{matrix}\n",
    "x_1 + 3x_2 - 2x_3 + 4x_4 = 3\\\\ \n",
    "5x_2 + x_4 = 2\\\\ \n",
    "3x_3 = 4\\\\ \n",
    "2x_4 = 1\n",
    "\\end{matrix}\\right. \\Rightarrow  \\left\\{\\begin{matrix}\n",
    "x_1 = 3 - 3 \\cdot x_2 + 2 \\cdot x_3 - 4 \\cdot x_4\\\\ \n",
    "5x_2 = 2 - \\frac{1}{2} = \\frac{3}{2}\\\\ \n",
    "x_3 = \\frac{4}{3}\\\\ \n",
    "x_4 = \\frac{1}{2}\n",
    "\\end{matrix}\\right.\\Rightarrow \\left\\{\\begin{matrix}\n",
    "x_1 = 3 - \\frac{9}{10}+\\frac{8}{3}-2=\\frac{83}{30}\\\\ \n",
    "x_2 = \\frac{3}{10}\\\\ \n",
    "x_3 = \\frac{4}{3}\\\\ \n",
    "x_4 = \\frac{1}{2}\n",
    "\\end{matrix}\\right.$$"
   ]
  },
  {
   "cell_type": "markdown",
   "id": "4ebc83e9",
   "metadata": {},
   "source": [
    "__4.__ Дана система линейных уравнений, заданная расширенной матрицей:\n",
    "\n",
    "$$\\tilde{A}=\\begin{pmatrix}\n",
    "\\left.\\begin{matrix}\n",
    "1 & 2 & 3\\\\ \n",
    "4 & 5 & 6\\\\ \n",
    "7 & 8 & 9\n",
    "\\end{matrix}\\right|\n",
    "\\begin{matrix}\n",
    "a\\\\ \n",
    "b\\\\\n",
    "c\n",
    "\\end{matrix}\n",
    "\\end{pmatrix}.$$\n",
    "\n",
    "Найдите соотношение между параметрами $a$, $b$ и $c$, при которых система считается несовместной."
   ]
  },
  {
   "cell_type": "markdown",
   "id": "d49a0cf4",
   "metadata": {},
   "source": [
    "$$\\begin{pmatrix}\n",
    "1 & 2 & 3 & a\\\\ \n",
    "4 & 5 & 6 & b\\\\ \n",
    "7 & 8 & 9 & c\n",
    "\\end{pmatrix}\\rightarrow \\begin{pmatrix}\n",
    "1 & 2 & 3 & a\\\\ \n",
    "0 & -3 & -6 & b-4a\\\\ \n",
    "0 & -6 & -12 & c-7a\n",
    "\\end{pmatrix}$$"
   ]
  },
  {
   "cell_type": "markdown",
   "id": "46e74e86",
   "metadata": {},
   "source": [
    "Таким образом, если $$2 \\cdot (b-4a)\\neq c-7a\\Rightarrow $$\n",
    "$$2b - 8a\\neq c -7a\\Rightarrow $$\n",
    "$$a \\neq 2b-c$$"
   ]
  },
  {
   "cell_type": "markdown",
   "id": "70df0b1b",
   "metadata": {},
   "source": [
    "При таком соотношении система будет несовместной"
   ]
  },
  {
   "cell_type": "markdown",
   "id": "e4c16d4f",
   "metadata": {},
   "source": [
    "### Часть 2"
   ]
  },
  {
   "cell_type": "markdown",
   "id": "d87b080f",
   "metadata": {},
   "source": [
    "__1.__ Решите систему уравнений методом Крамера:\n",
    "\n",
    "   а) $\\begin{cases}\n",
    "x_{1}-2x_{2}=1 \\\\\n",
    "3x_{1}-4x_{2}=7\n",
    "\\end{cases}$"
   ]
  },
  {
   "cell_type": "markdown",
   "id": "dbcd5e87",
   "metadata": {},
   "source": [
    "__Решение:__\n",
    "\n",
    "$$detA = \\begin{vmatrix}\n",
    "1 & -2\\\\ \n",
    "3 & -4\n",
    "\\end{vmatrix}=-4+6=2$$\n",
    "\n",
    "$$detA_1 = \\begin{vmatrix}\n",
    "1 & -2\\\\ \n",
    "7 & -4\n",
    "\\end{vmatrix}=-4+14=10$$\n",
    "\n",
    "$$detA_2 = \\begin{vmatrix}\n",
    "1 & 1\\\\ \n",
    "3 & 7\n",
    "\\end{vmatrix}=7-3=4$$"
   ]
  },
  {
   "cell_type": "markdown",
   "id": "e39edabd",
   "metadata": {},
   "source": [
    "$$x_1 = \\frac{detA_1}{detA} = \\frac{10}{2}=5$$\n",
    "$$x_2 = \\frac{detA_2}{detA} = \\frac{4}{2}=2$$"
   ]
  },
  {
   "cell_type": "markdown",
   "id": "a538f272",
   "metadata": {},
   "source": [
    "б) $\\begin{cases}\n",
    "2x_{1}-x_{2}+5x_{3}=10 \\\\\n",
    "x_{1}+x_{2}-3x_{3}=-2 \\\\\n",
    "2x_{1}+4x_{2}+x_{3}=1\n",
    "\\end{cases}$"
   ]
  },
  {
   "cell_type": "markdown",
   "id": "2cf5ac8b",
   "metadata": {},
   "source": [
    "__Решение:__\n",
    "\n",
    "$$detA = \\begin{vmatrix}\n",
    "2 & -1  & 5\\\\ \n",
    "1 & 1 & -3\\\\ \n",
    "2 & 4 & 1\n",
    "\\end{vmatrix} = 2+6+20-10+1+24=43$$\n",
    "\n",
    "$$detA_1 = \\begin{vmatrix}\n",
    "10 & -1  & 5\\\\ \n",
    "-2 & 1 & -3\\\\ \n",
    "1 & 4 & 1\n",
    "\\end{vmatrix} = 10+3-40-5-2+120=86$$\n",
    "\n",
    "$$detA_2 = \\begin{vmatrix}\n",
    "2 & 10  & 5\\\\ \n",
    "1 & -2 & -3\\\\ \n",
    "2 & 1 & 1\n",
    "\\end{vmatrix} = -4-60+5+20-10+6=-43$$\n",
    "\n",
    "$$detA_3 = \\begin{vmatrix}\n",
    "2 & -1  & 10\\\\ \n",
    "1 & 1 & -2\\\\ \n",
    "2 & 4 & 1\n",
    "\\end{vmatrix} = 2+4+40-20+1+16=43$$"
   ]
  },
  {
   "cell_type": "markdown",
   "id": "6ac74069",
   "metadata": {},
   "source": [
    "$$x_1 = \\frac{detA_1}{detA} = \\frac{86}{43}=2$$\n",
    "$$x_2 = \\frac{detA_2}{detA} = \\frac{-43}{43}=-1$$\n",
    "$$x_3 = \\frac{detA_3}{detA} = \\frac{43}{43}=1$$"
   ]
  },
  {
   "cell_type": "markdown",
   "id": "938da87b",
   "metadata": {},
   "source": [
    "__2*.__ Найдите $L$-матрицу $LU$-разложения для матрицы коэффициентов:\n",
    "\n",
    "   а)$$\\begin{pmatrix}\n",
    "1 & 2 & 4 \\\\ \n",
    "2 & 9 & 12 \\\\ \n",
    "3 & 26 & 30\n",
    "\\end{pmatrix}$$"
   ]
  },
  {
   "cell_type": "markdown",
   "id": "1d9bc1ed",
   "metadata": {},
   "source": [
    "__Решение:__\n",
    "\n",
    "Вычтем из второй строки первую, умноженную на 2. Вычтем из третьей строки первую, умноженную на 3. Таким образом:\n",
    "\n",
    "$$U = \\begin{pmatrix}\n",
    "1 & 2 & 4\\\\ \n",
    "2 & 9 & 12\\\\ \n",
    "3 & 26 & 30\n",
    "\\end{pmatrix}\\rightarrow \\begin{pmatrix}\n",
    "1 & 2 & 4\\\\ \n",
    "0 & 5 & 4\\\\ \n",
    "0 & 20 & 18\n",
    "\\end{pmatrix}$$\n",
    "\n",
    "$$L = \\begin{pmatrix}\n",
    "1 & 0 & 0\\\\ \n",
    "2 & 1 & 0\\\\ \n",
    "3 & l_{32} & 1\n",
    "\\end{pmatrix}$$\n",
    "\n",
    "Далее умножим вторую строку матрицы U на 4 и вычтем из третьей строки:\n",
    "\n",
    "$$U = \\begin{pmatrix}\n",
    "1 & 2 & 4\\\\ \n",
    "0 & 5 & 4\\\\ \n",
    "0 & 0 & 2\n",
    "\\end{pmatrix}$$\n",
    "\n",
    "Таким образом:\n",
    "\n",
    "$$L=\\begin{pmatrix}\n",
    "1 & 0 & 0\\\\ \n",
    "2 & 1 & 0\\\\ \n",
    "3 & 4 & 1\n",
    "\\end{pmatrix}$$"
   ]
  },
  {
   "cell_type": "markdown",
   "id": "30dcc878",
   "metadata": {},
   "source": [
    "б)$$\\begin{pmatrix}\n",
    "1 & 1 & 2 & 4\\\\ \n",
    "2 & 5 & 8 & 9\\\\ \n",
    "3 & 18 & 29 & 18\\\\\n",
    "4 & 22 & 53 & 33\n",
    "\\end{pmatrix}$$"
   ]
  },
  {
   "cell_type": "markdown",
   "id": "527e50db",
   "metadata": {},
   "source": [
    "Вычтем из второй строки первую, умноженную на 2. Вычтем из третьей строки первую, умноженную на 3. Вычтем из четвертой строки первую, умноженную на 4. Таким образом:\n",
    "\n",
    "$$U=\\begin{pmatrix}\n",
    "1 & 1 & 2 & 4\\\\ \n",
    "2 & 5 & 8 & 9\\\\ \n",
    "3 & 18 & 29 & 18\\\\ \n",
    "4 & 22 & 53 & 33\n",
    "\\end{pmatrix}\\rightarrow \\begin{pmatrix}\n",
    "1 & 1 & 2 & 4\\\\ \n",
    "0 & 3 & 4 & 1\\\\ \n",
    "0 & 15 & 23 & 6\\\\ \n",
    "0 & 18 & 45 & 17\n",
    "\\end{pmatrix}$$\n",
    "\n",
    "\n",
    "$$L=\\begin{pmatrix}\n",
    "1 & 0 & 0 & 0\\\\ \n",
    "2 & 1 & 0 & 0\\\\ \n",
    "3 & l_{32} & 1 & 0\\\\ \n",
    "4 & l_{42} & l_{43} & 1\n",
    "\\end{pmatrix}$$"
   ]
  },
  {
   "cell_type": "markdown",
   "id": "26542eb5",
   "metadata": {},
   "source": [
    "Далее умножим вторую строку матрицы U на 5 и вычтем из третьей строки. Умножим вторую строку на 6 и вычтем из четвертой строки:\n",
    "\n",
    "$$U = \\begin{pmatrix}\n",
    "1 & 1 & 2 & 4\\\\ \n",
    "0 & 3 & 4 & 1\\\\ \n",
    "0 & 15 & 23 & 6\\\\ \n",
    "0 & 18 & 45 & 17\n",
    "\\end{pmatrix}\\rightarrow \\begin{pmatrix}\n",
    "1 & 1 & 2 & 4\\\\ \n",
    "0 & 3 & 4 & 1\\\\ \n",
    "0 & 0 & 3 & 1\\\\ \n",
    "0 & 0 & 21 & 11\n",
    "\\end{pmatrix}$$\n",
    "\n",
    "\n",
    "$$L=\\begin{pmatrix}\n",
    "1 & 0 & 0 & 0\\\\ \n",
    "2 & 1 & 0 & 0\\\\ \n",
    "3 & 5 & 1 & 0\\\\ \n",
    "4 & 6 & l_{43} & 1\n",
    "\\end{pmatrix}$$"
   ]
  },
  {
   "cell_type": "markdown",
   "id": "410bc290",
   "metadata": {},
   "source": [
    "Далее умножим третью строку матрицы U на 7 и вычтем из четвертой строки:\n",
    "\n",
    "$$U=\\begin{pmatrix}\n",
    "1 & 1 & 2 & 4\\\\ \n",
    "0 & 3 & 4 & 1\\\\ \n",
    "0 & 0 & 3 & 1\\\\ \n",
    "0 & 0 & 21 & 11\n",
    "\\end{pmatrix}\\rightarrow \\begin{pmatrix}\n",
    "1 & 1 & 2 & 4\\\\ \n",
    "0 & 3 & 4 & 1\\\\ \n",
    "0 & 0 & 3 & 1\\\\ \n",
    "0 & 0 & 0 & 4\n",
    "\\end{pmatrix}$$\n",
    "\n",
    "$$L=\\begin{pmatrix}\n",
    "1 & 0 & 0 & 0\\\\ \n",
    "2 & 1 & 0 & 0\\\\ \n",
    "3 & 5 & 1 & 0\\\\ \n",
    "4 & 6 & 7 & 1\n",
    "\\end{pmatrix}$$"
   ]
  }
 ],
 "metadata": {
  "kernelspec": {
   "display_name": "Python 3",
   "language": "python",
   "name": "python3"
  },
  "language_info": {
   "codemirror_mode": {
    "name": "ipython",
    "version": 3
   },
   "file_extension": ".py",
   "mimetype": "text/x-python",
   "name": "python",
   "nbconvert_exporter": "python",
   "pygments_lexer": "ipython3",
   "version": "3.8.8"
  }
 },
 "nbformat": 4,
 "nbformat_minor": 5
}
