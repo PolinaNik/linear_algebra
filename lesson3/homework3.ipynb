{
 "cells": [
  {
   "cell_type": "markdown",
   "id": "9b273c82",
   "metadata": {},
   "source": [
    "## Домашняя работа по теме №3 \"Линейные преобразования\""
   ]
  },
  {
   "cell_type": "markdown",
   "id": "08f9f44f",
   "metadata": {},
   "source": [
    "__1.__ Найдите собственные векторы и собственные значения для линейного оператора, заданного матрицей:\n",
    "\n",
    "$$A=\\begin{pmatrix}\n",
    "-1 & -6\\\\ \n",
    "2 & 6\n",
    "\\end{pmatrix}.$$"
   ]
  },
  {
   "cell_type": "code",
   "execution_count": 1,
   "id": "01893c0b",
   "metadata": {},
   "outputs": [],
   "source": [
    "import numpy as np"
   ]
  },
  {
   "cell_type": "code",
   "execution_count": 2,
   "id": "d9631107",
   "metadata": {},
   "outputs": [],
   "source": [
    "a = np.array([[-1, -6], [2, 6]])"
   ]
  },
  {
   "cell_type": "code",
   "execution_count": 3,
   "id": "70098260",
   "metadata": {},
   "outputs": [
    {
     "name": "stdout",
     "output_type": "stream",
     "text": [
      "Матрица A:\n",
      "[[-1 -6]\n",
      " [ 2  6]]\n",
      "Собственные значения:\n",
      "[2. 3.]\n",
      "Собственные векторы:\n",
      "[[-0.89442719  0.83205029]\n",
      " [ 0.4472136  -0.5547002 ]]\n"
     ]
    }
   ],
   "source": [
    "w, v = np.linalg.eig(a)\n",
    " \n",
    "print(f'Матрица A:\\n{a}')\n",
    "print(f'Собственные значения:\\n{w}')\n",
    "print(f'Собственные векторы:\\n{v}')"
   ]
  },
  {
   "cell_type": "markdown",
   "id": "9830d9cc",
   "metadata": {},
   "source": [
    "$$\\begin{vmatrix}\n",
    "-1-\\lambda  & -6\\\\ \n",
    " 2 & 6 - \\lambda \n",
    "\\end{vmatrix} = 0$$\n",
    "\n",
    "$$\\lambda^2 - 5\\lambda + 6 = 0$$\n",
    "\n",
    "$$\\lambda_1 = 2$$\n",
    "$$\\lambda_2 = 3$$\n",
    "\n"
   ]
  },
  {
   "cell_type": "markdown",
   "id": "d80429ad",
   "metadata": {},
   "source": [
    "$$\\begin{pmatrix}\n",
    "-1 & 6\\\\ \n",
    " 2 & 6\n",
    "\\end{pmatrix}\n",
    "\\begin{pmatrix}\n",
    "x_1 \\\\ \n",
    " x_2 \n",
    "\\end{pmatrix} = \\lambda_1\\begin{pmatrix}\n",
    "x_1 \\\\ \n",
    " x_2 \n",
    "\\end{pmatrix}$$\n",
    "\n",
    "$$\\left\\{\\begin{matrix}\n",
    "-x_1 - 6x_2 = 2x_1\\\\ \n",
    "2x_1 + 6x_2 = 2x_2\n",
    "\\end{matrix}\\right. \\Rightarrow \\left\\{\\begin{matrix}\n",
    "-3x_1 = 6x_2\\\\ \n",
    "2x_1 = -4x_2\n",
    "\\end{matrix}\\right. \\Rightarrow \\left\\{\\begin{matrix}\n",
    "x_1 = -2x_2\\\\ \n",
    "x_1 = -2x_2\n",
    "\\end{matrix}\\right.$$"
   ]
  },
  {
   "cell_type": "markdown",
   "id": "6edda7dd",
   "metadata": {},
   "source": [
    "$$\\begin{pmatrix}\n",
    "-1 & 6\\\\ \n",
    " 2 & 6\n",
    "\\end{pmatrix}\n",
    "\\begin{pmatrix}\n",
    "x_1 \\\\ \n",
    " x_2 \n",
    "\\end{pmatrix} = \\lambda_2\\begin{pmatrix}\n",
    "x_1 \\\\ \n",
    " x_2 \n",
    "\\end{pmatrix}$$\n",
    "\n",
    "$$\\left\\{\\begin{matrix}\n",
    "-x_1 - 6x_2 = 3x_1\\\\ \n",
    "2x_1 + 6x_2 = 3x_2\n",
    "\\end{matrix}\\right. \\Rightarrow \\left\\{\\begin{matrix}\n",
    "-4x_1 = 6x_2\\\\ \n",
    "2x_1 = -3x_2\n",
    "\\end{matrix}\\right. \\Rightarrow \\left\\{\\begin{matrix}\n",
    "x_1 = -1.5x_2\\\\ \n",
    "x_1 = -1.5x_2\n",
    "\\end{matrix}\\right.$$"
   ]
  },
  {
   "cell_type": "markdown",
   "id": "c8378182",
   "metadata": {},
   "source": [
    "__2.__ Дан оператор поворота на 180 градусов, задаваемый матрицей:\n",
    "\n",
    "$$A=\\begin{pmatrix}\n",
    "-1 & 0\\\\ \n",
    "0 & -1\n",
    "\\end{pmatrix}.$$\n",
    "\n",
    "Покажите, что __любой__ вектор считается для него собственным."
   ]
  },
  {
   "cell_type": "markdown",
   "id": "ecde6ee9",
   "metadata": {},
   "source": [
    "__Решение:__\n",
    "\n",
    "$$\\begin{vmatrix}\n",
    "-1 - \\lambda & 0\\\\ \n",
    "0 & -1 - \\lambda\n",
    "\\end{vmatrix} = 0$$\n",
    "\n",
    "$$(-1-\\lambda)^2 = 0$$\n",
    "\n",
    "$$\\lambda = -1$$\n",
    "\n",
    "$$\\begin{pmatrix}\n",
    "-1 & 0\\\\ \n",
    " 0 & -1\n",
    "\\end{pmatrix}\n",
    "\\begin{pmatrix}\n",
    "x_1 \\\\ \n",
    " x_2 \n",
    "\\end{pmatrix} = -1\\begin{pmatrix}\n",
    "x_1 \\\\ \n",
    " x_2 \n",
    "\\end{pmatrix}$$\n",
    "\n",
    "$$\\left\\{\\begin{matrix}\n",
    "-x_1 = -x_1\\\\ \n",
    "-x_2 = -x_2\n",
    "\\end{matrix}\\right.$$\n",
    "\n",
    "Какое бы число не поставить на место $x_1, x_2$ будет выполняться равенство, следовательно, любой вектор для данного оператора будет являться собственным.\n"
   ]
  },
  {
   "cell_type": "markdown",
   "id": "b68e6c8b",
   "metadata": {},
   "source": [
    "__3.__ Пусть линейный оператор задан матрицей:\n",
    "\n",
    "$$A=\\begin{pmatrix}\n",
    "1 & 1\\\\ \n",
    "-1 & 3\n",
    "\\end{pmatrix}.$$\n",
    "\n",
    "Установите, считается ли вектор $x=(1,1)$ собственным вектором этого линейного оператора.\n"
   ]
  },
  {
   "cell_type": "markdown",
   "id": "2a930bb4",
   "metadata": {},
   "source": [
    "__Решение:__\n",
    "\n",
    "$$\\begin{vmatrix}\n",
    "1 - \\lambda & 1\\\\ \n",
    "-1 & 3 - \\lambda\n",
    "\\end{vmatrix} = 0$$\n",
    "\n",
    "$$(1-\\lambda)(3-\\lambda) + 1 = 0$$\n",
    "\n",
    "$$\\lambda^2 - 4\\lambda + 4 = 0$$\n",
    "\n",
    "$$\\lambda = 2$$\n"
   ]
  },
  {
   "cell_type": "markdown",
   "id": "770ba9ad",
   "metadata": {},
   "source": [
    "$$\\begin{pmatrix}\n",
    "1 & 1\\\\ \n",
    "-1 & 3\n",
    "\\end{pmatrix}\n",
    "\\begin{pmatrix}\n",
    "x_1 \\\\ \n",
    " x_2 \n",
    "\\end{pmatrix} = 2\\begin{pmatrix}\n",
    "x_1 \\\\ \n",
    " x_2 \n",
    "\\end{pmatrix}$$\n",
    "\n",
    "$$\\left\\{\\begin{matrix}\n",
    "x_1 + x_2 = 2x_1\\\\ \n",
    "-x_1 +3x_2 = 2x_2\n",
    "\\end{matrix}\\right. \\Rightarrow \\left\\{\\begin{matrix}\n",
    "x_2 = x_1\\\\ \n",
    "-x_1 = -x_2\n",
    "\\end{matrix}\\right.$$\n",
    "\n",
    "Таким образом, вектор $x = (1, 1)$ является собственным, так как выполняется равенство $x_1=x_2$"
   ]
  },
  {
   "cell_type": "markdown",
   "id": "f33f09f3",
   "metadata": {},
   "source": [
    "**4.** Пусть линейный оператор задан матрицей:\n",
    "\n",
    "$$A=\\begin{pmatrix} 0 & 3 & 0\\\\ 3 & 0 & 0\\\\ 0 & 0 & 3 \\end{pmatrix}.$$\n",
    "\n",
    "Установите, считается ли вектор $x=(3, -3, -4)$ собственным вектором этого линейного оператора."
   ]
  },
  {
   "cell_type": "markdown",
   "id": "ba7ca74f",
   "metadata": {},
   "source": [
    "__Решение:__\n",
    "\n",
    "$$\\begin{pmatrix}\n",
    "0 & 3 & 0\\\\ \n",
    "3 & 0 & 0\\\\ \n",
    "0 & 0 & 3\n",
    "\\end{pmatrix}\\begin{pmatrix}\n",
    "3\\\\ \n",
    "-3\\\\ \n",
    "-4\n",
    "\\end{pmatrix} = \\lambda \\begin{pmatrix}\n",
    "3\\\\ \n",
    "-3\\\\ \n",
    "-4\n",
    "\\end{pmatrix}$$"
   ]
  },
  {
   "cell_type": "markdown",
   "id": "de4bd522",
   "metadata": {},
   "source": [
    "$$\\left\\{\\begin{matrix}\n",
    "-9 = 3\\lambda\\\\ \n",
    "9 = -3\\lambda\\\\ \n",
    "-12 = -4\\lambda\n",
    "\\end{matrix}\\right.\\Rightarrow \\left\\{\\begin{matrix}\n",
    "\\lambda = -3\\\\ \n",
    "\\lambda = -3\\\\ \n",
    "\\lambda = 3\n",
    "\\end{matrix}\\right.$$"
   ]
  },
  {
   "cell_type": "markdown",
   "id": "98b24c20",
   "metadata": {},
   "source": [
    "Такая система не имеет смысла, следовательно, вектор  𝑥=(3,−3, -4)  не считается собственным вектором линейного оператора, заданного матрицей  𝐴 ."
   ]
  }
 ],
 "metadata": {
  "kernelspec": {
   "display_name": "Python 3",
   "language": "python",
   "name": "python3"
  },
  "language_info": {
   "codemirror_mode": {
    "name": "ipython",
    "version": 3
   },
   "file_extension": ".py",
   "mimetype": "text/x-python",
   "name": "python",
   "nbconvert_exporter": "python",
   "pygments_lexer": "ipython3",
   "version": "3.8.8"
  }
 },
 "nbformat": 4,
 "nbformat_minor": 5
}
